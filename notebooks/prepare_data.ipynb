{
 "cells": [
  {
   "cell_type": "markdown",
   "metadata": {},
   "source": [
    "<table style=\"width: 100%; border-collapse: collapse;\" border=\"0\">\n",
    "<tr>\n",
    "<td><b>Created:</b> Monday 30 January 2017</td>\n",
    "<td style=\"text-align: right;\"><a href=\"https://www.github.com/rhyswhitley/fire_limitation\">github.com/rhyswhitley/fire_limitation</td>\n",
    "</tr>\n",
    "</table>\n",
    "\n",
    "<div>\n",
    "<center>\n",
    "<font face=\"Times\">\n",
    "<br>\n",
    "<h1>Quantifying the uncertainity of a global fire limitation model using Bayesian inference</h1>\n",
    "<h2>Part 1: Staging data for analysis</h2>\n",
    "<br>\n",
    "<br>\n",
    "<sup>1,* </sup>Douglas Kelley, \n",
    "<sup>2 </sup>Ioannis Bistinas, \n",
    "<sup>3, 4 </sup>Chantelle Burton, \n",
    "<sup>1 </sup>Tobias Marthews, \n",
    "<sup>5 </sup>Rhys Whitley\n",
    "<br>\n",
    "<br>\n",
    "<br>\n",
    "<sup>1 </sup>Centre for Ecology and Hydrology, Maclean Building, Crowmarsh Gifford, Wallingford, Oxfordshire, United Kingdom\n",
    "<br>\n",
    "<sup>2 </sup>Vrije Universiteit Amsterdam, Faculty of Earth and Life Sciences, Amsterdam, Netherlands\n",
    "<br>\n",
    "<sup>3 </sup>Met Office United Kingdom, Exeter, United Kingdom\n",
    "<br>\n",
    "<sup>4 </sup>Geography, University of Exeter, Exeter, United Kingdom\n",
    "<br>\n",
    "<sup>5 </sup>Natural Perils Pricing, Commercial & Consumer Portfolio & Pricing, Suncorp Group, Sydney, Australia\n",
    "<br>\n",
    "<br>\n",
    "<h3>Summary</h3>\n",
    "<hr>\n",
    "<p> \n",
    "This notebook aims to process the separate netCDF4 files for the model drivers (X<sub>i=1, 2, ... M</sub>) and model target (Y) into a unified tabular data frame, exported as a compressed comma separated value (CSV) file. This file is subsequently used in the Bayesian inference study that forms the second notebook in this experiment. The advantage of the pre-processing the data separately to the analysis allows for it be quickly staged on demand. Of course other file formats may be more advantageous for greater compression (e.g. SQLite3 database file).\n",
    "</p>\n",
    "<br>\n",
    "<b>You will need to run this notebook to prepare the dataest before you attempt the Bayesian analysis in Part 2</b>.\n",
    "<br>\n",
    "<br>\n",
    "<br>\n",
    "<i>Python code and calculations below</i>\n",
    "<br>\n",
    "<hr>\n",
    "</font>\n",
    "</center>\n",
    "</div>"
   ]
  },
  {
   "cell_type": "markdown",
   "metadata": {},
   "source": [
    "## Load libraries"
   ]
  },
  {
   "cell_type": "code",
   "execution_count": 2,
   "metadata": {},
   "outputs": [],
   "source": [
    "# data munging and analytical libraries \n",
    "import re\n",
    "import os\n",
    "import numpy as np\n",
    "import pandas as pd\n",
    "from netCDF4 import Dataset \n",
    "\n",
    "# graphical libraries\n",
    "import matplotlib.pyplot as plt\n",
    "%matplotlib inline\n",
    "\n",
    "# set paths\n",
    "outPath = \"../data/frpVariables\""
   ]
  },
  {
   "cell_type": "markdown",
   "metadata": {},
   "source": [
    "## Import and clean data\n",
    "\n",
    "Set the directory path and look for all netcdf files that correspond to the model drivers and target."
   ]
  },
  {
   "cell_type": "code",
   "execution_count": 3,
   "metadata": {},
   "outputs": [
    {
     "data": {
      "text/html": [
       "<div>\n",
       "<style scoped>\n",
       "    .dataframe tbody tr th:only-of-type {\n",
       "        vertical-align: middle;\n",
       "    }\n",
       "\n",
       "    .dataframe tbody tr th {\n",
       "        vertical-align: top;\n",
       "    }\n",
       "\n",
       "    .dataframe thead th {\n",
       "        text-align: right;\n",
       "    }\n",
       "</style>\n",
       "<table border=\"1\" class=\"dataframe\">\n",
       "  <thead>\n",
       "    <tr style=\"text-align: right;\">\n",
       "      <th></th>\n",
       "      <th>filepath</th>\n",
       "      <th>file_name</th>\n",
       "    </tr>\n",
       "  </thead>\n",
       "  <tbody>\n",
       "    <tr>\n",
       "      <th>0</th>\n",
       "      <td>../data/data_libfire/ba_km2.nc</td>\n",
       "      <td>ba_km</td>\n",
       "    </tr>\n",
       "    <tr>\n",
       "      <th>1</th>\n",
       "      <td>../data/data_libfire/enso.nc</td>\n",
       "      <td>enso</td>\n",
       "    </tr>\n",
       "    <tr>\n",
       "      <th>2</th>\n",
       "      <td>../data/data_libfire/frp.nc</td>\n",
       "      <td>frp</td>\n",
       "    </tr>\n",
       "    <tr>\n",
       "      <th>3</th>\n",
       "      <td>../data/data_libfire/fuel_consumption.nc</td>\n",
       "      <td>fuel_consumption</td>\n",
       "    </tr>\n",
       "    <tr>\n",
       "      <th>4</th>\n",
       "      <td>../data/data_libfire/kalimantan_peat.nc</td>\n",
       "      <td>kalimantan_peat</td>\n",
       "    </tr>\n",
       "    <tr>\n",
       "      <th>5</th>\n",
       "      <td>../data/data_libfire/sm.nc</td>\n",
       "      <td>sm</td>\n",
       "    </tr>\n",
       "    <tr>\n",
       "      <th>6</th>\n",
       "      <td>../data/data_libfire/tree_fraction.nc</td>\n",
       "      <td>tree_fraction</td>\n",
       "    </tr>\n",
       "  </tbody>\n",
       "</table>\n",
       "</div>"
      ],
      "text/plain": [
       "                                   filepath         file_name\n",
       "0            ../data/data_libfire/ba_km2.nc             ba_km\n",
       "1              ../data/data_libfire/enso.nc              enso\n",
       "2               ../data/data_libfire/frp.nc               frp\n",
       "3  ../data/data_libfire/fuel_consumption.nc  fuel_consumption\n",
       "4   ../data/data_libfire/kalimantan_peat.nc   kalimantan_peat\n",
       "5                ../data/data_libfire/sm.nc                sm\n",
       "6     ../data/data_libfire/tree_fraction.nc     tree_fraction"
      ]
     },
     "execution_count": 3,
     "metadata": {},
     "output_type": "execute_result"
    }
   ],
   "source": [
    "driver_paths = [os.path.join(dp, f) for (dp, _, fn) in os.walk(\"../data/data_libfire/\") for f in fn if f.endswith('.nc')]\n",
    "driver_names = [re.search('^[a-zA-Z_]*', os.path.basename(fp)).group(0) for fp in driver_paths]\n",
    "\n",
    "file_table = pd.DataFrame({'filepath': driver_paths, 'file_name': driver_names})\n",
    "file_table"
   ]
  },
  {
   "cell_type": "markdown",
   "metadata": {},
   "source": [
    "Define a function to extract the variable values from each netCDF4 file. Variables are flattened from a 3 dimensional array to 1 dimensional version, pooling all values both spatially and temporily. \n",
    "\n",
    "Don't know if this is the correct way to do this, but will come back to it once I understand the model (and its optimisation) better."
   ]
  },
  {
   "cell_type": "code",
   "execution_count": 4,
   "metadata": {},
   "outputs": [
    {
     "data": {
      "text/plain": [
       "(10, 10)"
      ]
     },
     "execution_count": 4,
     "metadata": {},
     "output_type": "execute_result"
    }
   ],
   "source": [
    "yay = np.reshape(np.arange(100), [10, 10])\n",
    "yay.shape"
   ]
  },
  {
   "cell_type": "code",
   "execution_count": 5,
   "metadata": {},
   "outputs": [],
   "source": [
    "from pdb import set_trace as browser\n",
    "\n",
    "def nc_extract(fpath, mnth = None):\n",
    "    print(\"Processing: {0}\".format(fpath))\n",
    "    with Dataset(fpath, 'r') as nc_file:\n",
    "        try:\n",
    "            gdata = np.array(nc_file.variables['variable'][:,:,:])\n",
    "        except:\n",
    "            gdata = np.array(nc_file.variables['layer'][:, :])\n",
    "        if  mnth is not None:\n",
    "            try:\n",
    "                yr = np.floor(np.arange(168)/12)\n",
    "                mn = np.arange(168) - yr * 12\n",
    "                index = np.where(mn == mnth)[0]\n",
    "                gdata = gdata[index, :]\n",
    "            except:\n",
    "                shp = gdata.shape\n",
    "                gdata = np.reshape(np.repeat(gdata, 14), [14, shp[1], shp[2]])\n",
    "        gflat = gdata.flatten()\n",
    "        #if type(gdata) == np.ma.core.MaskedArray:\n",
    "        #    return gflat[~gflat.mask].data\n",
    "        #else:\n",
    "        return gflat.data"
   ]
  },
  {
   "cell_type": "markdown",
   "metadata": {},
   "source": [
    "Execute the above function on all netCDF4 file paths."
   ]
  },
  {
   "cell_type": "code",
   "execution_count": 7,
   "metadata": {
    "scrolled": false
   },
   "outputs": [
    {
     "name": "stdout",
     "output_type": "stream",
     "text": [
      "Processing: ../data/data_libfire/ba_km2.nc\n",
      "Processing: ../data/data_libfire/enso.nc\n",
      "Processing: ../data/data_libfire/frp.nc\n",
      "Processing: ../data/data_libfire/fuel_consumption.nc\n",
      "Processing: ../data/data_libfire/kalimantan_peat.nc\n",
      "Processing: ../data/data_libfire/sm.nc\n",
      "Processing: ../data/data_libfire/tree_fraction.nc\n",
      "Processing: ../data/data_libfire/ba_km2.nc\n",
      "Processing: ../data/data_libfire/enso.nc\n",
      "Processing: ../data/data_libfire/frp.nc\n",
      "Processing: ../data/data_libfire/fuel_consumption.nc\n",
      "Processing: ../data/data_libfire/kalimantan_peat.nc\n",
      "Processing: ../data/data_libfire/sm.nc\n",
      "Processing: ../data/data_libfire/tree_fraction.nc\n",
      "Processing: ../data/data_libfire/ba_km2.nc\n",
      "Processing: ../data/data_libfire/enso.nc\n",
      "Processing: ../data/data_libfire/frp.nc\n",
      "Processing: ../data/data_libfire/fuel_consumption.nc\n",
      "Processing: ../data/data_libfire/kalimantan_peat.nc\n",
      "Processing: ../data/data_libfire/sm.nc\n",
      "Processing: ../data/data_libfire/tree_fraction.nc\n",
      "Processing: ../data/data_libfire/ba_km2.nc\n",
      "Processing: ../data/data_libfire/enso.nc\n",
      "Processing: ../data/data_libfire/frp.nc\n",
      "Processing: ../data/data_libfire/fuel_consumption.nc\n",
      "Processing: ../data/data_libfire/kalimantan_peat.nc\n",
      "Processing: ../data/data_libfire/sm.nc\n",
      "Processing: ../data/data_libfire/tree_fraction.nc\n",
      "Processing: ../data/data_libfire/ba_km2.nc\n",
      "Processing: ../data/data_libfire/enso.nc\n",
      "Processing: ../data/data_libfire/frp.nc\n",
      "Processing: ../data/data_libfire/fuel_consumption.nc\n",
      "Processing: ../data/data_libfire/kalimantan_peat.nc\n",
      "Processing: ../data/data_libfire/sm.nc\n",
      "Processing: ../data/data_libfire/tree_fraction.nc\n",
      "Processing: ../data/data_libfire/ba_km2.nc\n",
      "Processing: ../data/data_libfire/enso.nc\n",
      "Processing: ../data/data_libfire/frp.nc\n",
      "Processing: ../data/data_libfire/fuel_consumption.nc\n",
      "Processing: ../data/data_libfire/kalimantan_peat.nc\n",
      "Processing: ../data/data_libfire/sm.nc\n",
      "Processing: ../data/data_libfire/tree_fraction.nc\n",
      "Processing: ../data/data_libfire/ba_km2.nc\n",
      "Processing: ../data/data_libfire/enso.nc\n",
      "Processing: ../data/data_libfire/frp.nc\n",
      "Processing: ../data/data_libfire/fuel_consumption.nc\n",
      "Processing: ../data/data_libfire/kalimantan_peat.nc\n",
      "Processing: ../data/data_libfire/sm.nc\n",
      "Processing: ../data/data_libfire/tree_fraction.nc\n",
      "Processing: ../data/data_libfire/ba_km2.nc\n",
      "Processing: ../data/data_libfire/enso.nc\n",
      "Processing: ../data/data_libfire/frp.nc\n",
      "Processing: ../data/data_libfire/fuel_consumption.nc\n",
      "Processing: ../data/data_libfire/kalimantan_peat.nc\n",
      "Processing: ../data/data_libfire/sm.nc\n",
      "Processing: ../data/data_libfire/tree_fraction.nc\n",
      "Processing: ../data/data_libfire/ba_km2.nc\n",
      "Processing: ../data/data_libfire/enso.nc\n",
      "Processing: ../data/data_libfire/frp.nc\n",
      "Processing: ../data/data_libfire/fuel_consumption.nc\n",
      "Processing: ../data/data_libfire/kalimantan_peat.nc\n",
      "Processing: ../data/data_libfire/sm.nc\n",
      "Processing: ../data/data_libfire/tree_fraction.nc\n",
      "Processing: ../data/data_libfire/ba_km2.nc\n",
      "Processing: ../data/data_libfire/enso.nc\n",
      "Processing: ../data/data_libfire/frp.nc\n",
      "Processing: ../data/data_libfire/fuel_consumption.nc\n",
      "Processing: ../data/data_libfire/kalimantan_peat.nc\n",
      "Processing: ../data/data_libfire/sm.nc\n",
      "Processing: ../data/data_libfire/tree_fraction.nc\n",
      "Processing: ../data/data_libfire/ba_km2.nc\n",
      "Processing: ../data/data_libfire/enso.nc\n",
      "Processing: ../data/data_libfire/frp.nc\n",
      "Processing: ../data/data_libfire/fuel_consumption.nc\n",
      "Processing: ../data/data_libfire/kalimantan_peat.nc\n",
      "Processing: ../data/data_libfire/sm.nc\n",
      "Processing: ../data/data_libfire/tree_fraction.nc\n",
      "Processing: ../data/data_libfire/ba_km2.nc\n",
      "Processing: ../data/data_libfire/enso.nc\n",
      "Processing: ../data/data_libfire/frp.nc\n",
      "Processing: ../data/data_libfire/fuel_consumption.nc\n",
      "Processing: ../data/data_libfire/kalimantan_peat.nc\n",
      "Processing: ../data/data_libfire/sm.nc\n",
      "Processing: ../data/data_libfire/tree_fraction.nc\n"
     ]
    }
   ],
   "source": [
    "for mnth in range(12):\n",
    "    values = [nc_extract(dp, mnth) for dp in driver_paths]\n",
    "    # turn list into a dataframe\n",
    "    fire_df = pd.DataFrame(np.array(values).T, columns=driver_names)\n",
    "\n",
    "    # replace null flags with pandas null\n",
    "    fire_df['frp'].replace(0.0, np.nan, inplace = True)\n",
    "    fire_df.replace(-3.4e38, np.nan, inplace=True)\n",
    "\n",
    "    # drop all null rows (are ocean and not needed in optim)\n",
    "    fire_df.dropna(inplace=True)\n",
    "    \n",
    "    fire_df.head()\n",
    "    \n",
    "    outPathi = outPath + str(mnth) + '.csv'\n",
    "    savepath = os.path.expanduser(outPathi)\n",
    "    fire_df.to_csv(savepath, index=False)"
   ]
  },
  {
   "cell_type": "markdown",
   "metadata": {},
   "source": [
    "Turn this into a dataframe for the analysis."
   ]
  },
  {
   "cell_type": "code",
   "execution_count": null,
   "metadata": {
    "scrolled": false
   },
   "outputs": [],
   "source": []
  },
  {
   "cell_type": "markdown",
   "metadata": {},
   "source": [
    "Check that we've built it correctly."
   ]
  },
  {
   "cell_type": "code",
   "execution_count": null,
   "metadata": {},
   "outputs": [],
   "source": []
  },
  {
   "cell_type": "markdown",
   "metadata": {},
   "source": [
    "Export this to disk to be used by the analysis notebook - used gzip compression to save on space. Beware, because of there are approximation 10 million rows of data, this may take some time."
   ]
  },
  {
   "cell_type": "code",
   "execution_count": null,
   "metadata": {},
   "outputs": [],
   "source": []
  },
  {
   "cell_type": "markdown",
   "metadata": {},
   "source": [
    "<div>\n",
    "<br>\n",
    "<br>\n",
    "<br>\n",
    "<center>\n",
    "<font size=\"5\">\n",
    "<a style=\"font-weight: bold; size: 5\" href=\"http://localhost:8888/notebooks/notebooks/bayesian_inference.ipynb\">Part 2: click here</a>\n",
    "</font>\n",
    "</center>\n",
    "</div>"
   ]
  }
 ],
 "metadata": {
  "kernelspec": {
   "display_name": "Python 3",
   "language": "python",
   "name": "python3"
  },
  "language_info": {
   "codemirror_mode": {
    "name": "ipython",
    "version": 3
   },
   "file_extension": ".py",
   "mimetype": "text/x-python",
   "name": "python",
   "nbconvert_exporter": "python",
   "pygments_lexer": "ipython3",
   "version": "3.6.5"
  }
 },
 "nbformat": 4,
 "nbformat_minor": 1
}
